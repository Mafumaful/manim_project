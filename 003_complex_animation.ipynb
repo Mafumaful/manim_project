{
 "cells": [
  {
   "attachments": {},
   "cell_type": "markdown",
   "metadata": {},
   "source": [
    "# 主要是一些复杂的动画支持\n",
    "\n",
    "参考\n",
    "[Manim Example Gallery](https://manim-example-gallery.netlify.app/src/batchanimationexample)"
   ]
  },
  {
   "cell_type": "code",
   "execution_count": 1,
   "metadata": {},
   "outputs": [
    {
     "data": {
      "text/html": [
       "<pre style=\"white-space:pre;overflow-x:auto;line-height:normal;font-family:Menlo,'DejaVu Sans Mono',consolas,'Courier New',monospace\">Manim Community <span style=\"color: #008000; text-decoration-color: #008000\">v0.17.2</span>\n",
       "\n",
       "</pre>\n"
      ],
      "text/plain": [
       "Manim Community \u001b[32mv0.\u001b[0m\u001b[32m17.2\u001b[0m\n",
       "\n"
      ]
     },
     "metadata": {},
     "output_type": "display_data"
    }
   ],
   "source": [
    "# 导入\n",
    "from manim import *\n",
    "\n",
    "config.media_width = \"75%\"\n",
    "config.verbosity = \"WARNING\""
   ]
  },
  {
   "cell_type": "code",
   "execution_count": 8,
   "metadata": {},
   "outputs": [
    {
     "name": "stderr",
     "output_type": "stream",
     "text": [
      "                                                                                    \r"
     ]
    },
    {
     "data": {
      "text/html": [
       "<video src=\"media/jupyter/DissipatingPathExample@2023-02-11@20-45-52.mp4\" controls autoplay loop style=\"max-width: 75%;\"  >\n",
       "      Your browser does not support the <code>video</code> element.\n",
       "    </video>"
      ],
      "text/plain": [
       "<IPython.core.display.Video object>"
      ]
     },
     "metadata": {},
     "output_type": "display_data"
    }
   ],
   "source": [
    "%%manim -ql -v WARNING DissipatingPathExample\n",
    "class DissipatingPathExample(Scene):\n",
    "    def construct(self):\n",
    "        a = Dot(RIGHT * 2)\n",
    "        b = TracedPath(a.get_center, dissipating_time=0.5, stroke_opacity=[0, 1])\n",
    "        self.add(a, b)\n",
    "        self.play(a.animate(path_arc=PI / 4).shift(LEFT * 2))\n",
    "        self.play(a.animate(path_arc=-PI / 4).shift(LEFT * 2))\n",
    "        self.wait()"
   ]
  },
  {
   "cell_type": "code",
   "execution_count": 10,
   "metadata": {},
   "outputs": [
    {
     "name": "stderr",
     "output_type": "stream",
     "text": [
      "                                                                                      \r"
     ]
    },
    {
     "data": {
      "text/html": [
       "<video src=\"media/jupyter/TestScene@2023-02-11@20-47-40.mp4\" controls autoplay loop style=\"max-width: 75%;\"  >\n",
       "      Your browser does not support the <code>video</code> element.\n",
       "    </video>"
      ],
      "text/plain": [
       "<IPython.core.display.Video object>"
      ]
     },
     "metadata": {},
     "output_type": "display_data"
    }
   ],
   "source": [
    "%%manim -ql -v WARNING TestScene\n",
    "def shuffle(string):\n",
    "    '''随机打乱字符串并返回新的字符串'''\n",
    "    import random\n",
    "    char_list = list(string)\n",
    "    random.shuffle(char_list)\n",
    "    return ''.join(char_list)\n",
    "\n",
    "class TestScene(Scene):\n",
    "    def construct(self):\n",
    "        # 生成20个字符\n",
    "        chars = VGroup(*(\n",
    "            Text(char, color = utils.color.random_color())\n",
    "            for _ in range(4) for char in shuffle('MANIM')\n",
    "        ))\n",
    "        # 网格排列（4行5列）\n",
    "        chars.arrange_in_grid(rows=4)\n",
    "\n",
    "        # 用AnimationGroup管理多个FadeIn动画\n",
    "        self.play(AnimationGroup(\n",
    "            *(FadeIn(m, shift=DOWN) for m in chars),\n",
    "            lag_ratio = .3,\n",
    "        ))\n",
    "        self.wait()"
   ]
  },
  {
   "cell_type": "code",
   "execution_count": 11,
   "metadata": {},
   "outputs": [
    {
     "name": "stderr",
     "output_type": "stream",
     "text": [
      "                                                                                                                                                                                                                                                                                                                                                                                                                                                                \r"
     ]
    },
    {
     "data": {
      "text/html": [
       "<video src=\"media/jupyter/Circuit@2023-02-11@20-49-08.mp4\" controls autoplay loop style=\"max-width: 75%;\"  >\n",
       "      Your browser does not support the <code>video</code> element.\n",
       "    </video>"
      ],
      "text/plain": [
       "<IPython.core.display.Video object>"
      ]
     },
     "metadata": {},
     "output_type": "display_data"
    }
   ],
   "source": [
    "%%manim -ql -v WARNING Circuit\n",
    "class Circuit(Scene):\n",
    "    def construct(self):\n",
    "        template = TexTemplate()\n",
    "        template.add_to_preamble(r\"\\usepackage{circuitikz}\")\n",
    "\n",
    "        c = MathTex(\n",
    "            r'''\\draw \n",
    "                (0,2)   to[battery1]      (0,0)\n",
    "                (0,2)   --                (2,2)\n",
    "                (2,2)   to[R=\\(R_1\\)]     (2,0)\n",
    "                (2,2)   --                (4,2)\n",
    "                (4,2)   to[rmeter, t=V]   (4,0)\n",
    "                (4,0)   --                (2,0)\n",
    "                (2,0)   to[rmeter, t=A]   (0,0);\n",
    "            ''',\n",
    "            stroke_width=4,\n",
    "            fill_opacity=0,\n",
    "            stroke_opacity=1,\n",
    "            tex_environment=\"circuitikz\",\n",
    "            tex_template=template,\n",
    "        )\n",
    "\n",
    "        self.play(Write(c, run_time=3))\n",
    "        self.wait()"
   ]
  },
  {
   "cell_type": "code",
   "execution_count": 12,
   "metadata": {},
   "outputs": [
    {
     "name": "stderr",
     "output_type": "stream",
     "text": [
      "                                                                                                  \r"
     ]
    },
    {
     "data": {
      "text/html": [
       "<video src=\"media/jupyter/MoveCamera@2023-02-11@20-50-36.mp4\" controls autoplay loop style=\"max-width: 75%;\"  >\n",
       "      Your browser does not support the <code>video</code> element.\n",
       "    </video>"
      ],
      "text/plain": [
       "<IPython.core.display.Video object>"
      ]
     },
     "metadata": {},
     "output_type": "display_data"
    }
   ],
   "source": [
    "%%manim -ql -v WARNING MoveCamera\n",
    "class MoveCamera(ThreeDScene):\n",
    "    def construct(self):\n",
    "        axes = ThreeDAxes(x_range=(-0.1, 4.25), y_range=(-1.5, 1.5), z_range=(-1.5, 1.5), y_length=5, z_length=5)\n",
    "        func = lambda p: axes.coords_to_point(p, np.exp(complex(0, PI*p)).real, np.exp(complex(0, PI*p)).imag)\n",
    "        \n",
    "        curve = ParametricFunction(\n",
    "            func,\n",
    "            t_range=(0, 2, 0.1)\n",
    "        )\n",
    "        curve_extension = ParametricFunction(\n",
    "            func,\n",
    "            t_range=(2, 4, 0.1)\n",
    "        )\n",
    "\n",
    "        self.set_camera_orientation(phi=90*DEGREES, theta=0*DEGREES, focal_distance=10000)\n",
    "        self.add(axes)\n",
    "        self.play(Create(curve, run_time=2))\n",
    "        self.wait()\n",
    "        self.move_camera(phi=130*DEGREES, theta=-60*DEGREES, focal_distance=10000)\n",
    "        self.wait()\n",
    "        self.play(Create(curve_extension, run_time=2))\n",
    "        self.wait()\n",
    "        self.move_camera(phi=90*DEGREES, theta=-90*DEGREES, focal_distance=10000)\n",
    "        self.wait()"
   ]
  },
  {
   "cell_type": "code",
   "execution_count": 13,
   "metadata": {},
   "outputs": [
    {
     "name": "stderr",
     "output_type": "stream",
     "text": [
      "                                                                                       \r"
     ]
    },
    {
     "data": {
      "text/html": [
       "<video src=\"media/jupyter/RestoreExample@2023-02-11@20-53-14.mp4\" controls autoplay loop style=\"max-width: 75%;\"  >\n",
       "      Your browser does not support the <code>video</code> element.\n",
       "    </video>"
      ],
      "text/plain": [
       "<IPython.core.display.Video object>"
      ]
     },
     "metadata": {},
     "output_type": "display_data"
    }
   ],
   "source": [
    "%%manim -ql -v WARNING RestoreExample\n",
    "class RestoreExample(Scene):\n",
    "    def construct(self):\n",
    "        s = Square()\n",
    "        s.save_state()\n",
    "        self.play(FadeIn(s))\n",
    "        self.play(s.animate.set_color(PURPLE).set_opacity(0.5).shift(2*LEFT).scale(3))\n",
    "        self.play(s.animate.shift(5*DOWN).rotate(PI/4))\n",
    "        self.wait()\n",
    "        self.play(Restore(s), run_time=2)"
   ]
  },
  {
   "cell_type": "code",
   "execution_count": 14,
   "metadata": {},
   "outputs": [
    {
     "name": "stderr",
     "output_type": "stream",
     "text": [
      "                                                           \r"
     ]
    },
    {
     "data": {
      "text/html": [
       "<video src=\"media/jupyter/TimeUpdater@2023-02-11@20-59-14.mp4\" controls autoplay loop style=\"max-width: 75%;\"  >\n",
       "      Your browser does not support the <code>video</code> element.\n",
       "    </video>"
      ],
      "text/plain": [
       "<IPython.core.display.Video object>"
      ]
     },
     "metadata": {},
     "output_type": "display_data"
    }
   ],
   "source": [
    "%%manim -ql -v WARNING TimeUpdater\n",
    "class TimeUpdater(Scene):\n",
    "    def construct(self):\n",
    "        def updater_forth(mobj, dt):\n",
    "            mobj.rotate_about_origin(dt)\n",
    "        def updater_back(mobj, dt):\n",
    "            mobj.rotate_about_origin(-dt)\n",
    "        line_reference = Line(ORIGIN, LEFT).set_color(WHITE)\n",
    "        line_moving = Line(ORIGIN, LEFT).set_color(YELLOW)\n",
    "        line_moving.add_updater(updater_forth)\n",
    "        self.add(line_reference, line_moving)\n",
    "        self.wait(2)\n",
    "        line_moving.remove_updater(updater_forth)\n",
    "        line_moving.add_updater(updater_back)\n",
    "        self.wait(2)\n",
    "        line_moving.remove_updater(updater_back)\n",
    "        self.wait(0.5)"
   ]
  },
  {
   "cell_type": "code",
   "execution_count": 15,
   "metadata": {},
   "outputs": [
    {
     "name": "stderr",
     "output_type": "stream",
     "text": [
      "                                                                                  \r"
     ]
    },
    {
     "data": {
      "text/html": [
       "<video src=\"media/jupyter/CountingScene@2023-02-11@21-12-08.mp4\" controls autoplay loop style=\"max-width: 75%;\"  >\n",
       "      Your browser does not support the <code>video</code> element.\n",
       "    </video>"
      ],
      "text/plain": [
       "<IPython.core.display.Video object>"
      ]
     },
     "metadata": {},
     "output_type": "display_data"
    }
   ],
   "source": [
    "%%manim -ql -v WARNING CountingScene\n",
    "from manim import *\n",
    "\n",
    "class Count(Animation):\n",
    "    def __init__(self, number: DecimalNumber, start: float, end: float, **kwargs) -> None:\n",
    "        # Pass number as the mobject of the animation\n",
    "        super().__init__(number,  **kwargs)\n",
    "        # Set start and end\n",
    "        self.start = start\n",
    "        self.end = end\n",
    "\n",
    "    def interpolate_mobject(self, alpha: float) -> None:\n",
    "        # Set value of DecimalNumber according to alpha\n",
    "        value = self.start + (alpha * (self.end - self.start))\n",
    "        self.mobject.set_value(value)\n",
    "\n",
    "\n",
    "class CountingScene(Scene):\n",
    "    def construct(self):\n",
    "        # Create Decimal Number and add it to scene\n",
    "        number = DecimalNumber().set_color(WHITE).scale(5)\n",
    "        # Add an updater to keep the DecimalNumber centered as its value changes\n",
    "        number.add_updater(lambda number: number.move_to(ORIGIN))\n",
    "\n",
    "        self.add(number)\n",
    "\n",
    "        self.wait()\n",
    "\n",
    "        # Play the Count Animation to count from 0 to 100 in 4 seconds\n",
    "        self.play(Count(number, 0, 100), run_time=4, rate_func=linear)\n",
    "\n",
    "        self.wait()"
   ]
  }
 ],
 "metadata": {
  "kernelspec": {
   "display_name": "base",
   "language": "python",
   "name": "python3"
  },
  "language_info": {
   "codemirror_mode": {
    "name": "ipython",
    "version": 3
   },
   "file_extension": ".py",
   "mimetype": "text/x-python",
   "name": "python",
   "nbconvert_exporter": "python",
   "pygments_lexer": "ipython3",
   "version": "3.9.12"
  },
  "orig_nbformat": 4,
  "vscode": {
   "interpreter": {
    "hash": "7bde13cca8b9cfb88f3e732e233230a948ffc8260cda7276c9eb4a5cbd8dc853"
   }
  }
 },
 "nbformat": 4,
 "nbformat_minor": 2
}
