{
 "cells": [
  {
   "attachments": {},
   "cell_type": "markdown",
   "metadata": {},
   "source": [
    "# 将我的所有readme文件美化一下"
   ]
  },
  {
   "cell_type": "code",
   "execution_count": 2,
   "metadata": {},
   "outputs": [
    {
     "data": {
      "text/html": [
       "<pre style=\"white-space:pre;overflow-x:auto;line-height:normal;font-family:Menlo,'DejaVu Sans Mono',consolas,'Courier New',monospace\">Manim Community <span style=\"color: #008000; text-decoration-color: #008000\">v0.17.2</span>\n",
       "\n",
       "</pre>\n"
      ],
      "text/plain": [
       "Manim Community \u001b[32mv0.\u001b[0m\u001b[32m17.2\u001b[0m\n",
       "\n"
      ]
     },
     "metadata": {},
     "output_type": "display_data"
    }
   ],
   "source": [
    "# 导入\n",
    "from manim import *\n",
    "from moviepy.editor import *\n",
    "\n",
    "config.media_width = \"75%\"\n",
    "config.verbosity = \"WARNING\""
   ]
  },
  {
   "attachments": {},
   "cell_type": "markdown",
   "metadata": {},
   "source": [
    "接下来，创建视频文件"
   ]
  },
  {
   "cell_type": "code",
   "execution_count": 10,
   "metadata": {},
   "outputs": [
    {
     "name": "stderr",
     "output_type": "stream",
     "text": [
      "                                                                                   \r"
     ]
    },
    {
     "data": {
      "text/html": [
       "<video src=\"media/jupyter/ReadmeFile@2023-02-12@23-06-18.mp4\" controls autoplay loop style=\"max-width: 75%;\"  >\n",
       "      Your browser does not support the <code>video</code> element.\n",
       "    </video>"
      ],
      "text/plain": [
       "<IPython.core.display.Video object>"
      ]
     },
     "metadata": {},
     "output_type": "display_data"
    }
   ],
   "source": [
    "%%manim -qh -v WARNING ReadmeFile\n",
    "\n",
    "class ReadmeFile(Scene):\n",
    "    def construct(self):\n",
    "        product_formula = MathTex(\n",
    "            r\"This\\ is\\ my\\ own\\ test\\ \",\n",
    "            r\"about\\ \",\n",
    "            r\"how\\ to\\ use\\ Manim\"\n",
    "        )\n",
    "        s = Square()\n",
    "        s.save_state()\n",
    "        self.play(FadeIn(s))\n",
    "        self.play(s.animate.set_color(PURPLE).set_opacity(0.5).shift(2*LEFT).scale(3))\n",
    "        self.play(s.animate.shift(5*DOWN).rotate(PI/4))\n",
    "        # self.wait()\n",
    "        self.play(Restore(s), run_time=1)\n",
    "\n",
    "        self.play(Transform(s,product_formula))\n",
    "\n",
    "        # self.play(Write(product_formula))\n",
    "        box1 = SurroundingRectangle(product_formula[0], buff=0.1)\n",
    "        box2 = SurroundingRectangle(product_formula[1], buff=0.1)\n",
    "        box3 = SurroundingRectangle(product_formula[2], buff=0.1)\n",
    "        self.play(Create(box1))\n",
    "        # self.wait()\n",
    "        self.play(Transform(box1, box2))\n",
    "        # self.wait()\n",
    "        self.play(Transform(box1, box3))\n",
    "        self.wait()"
   ]
  },
  {
   "cell_type": "code",
   "execution_count": 8,
   "metadata": {},
   "outputs": [
    {
     "name": "stdout",
     "output_type": "stream",
     "text": [
      "MoviePy - Building file figures/PlotExample.gif with imageio.\n"
     ]
    },
    {
     "name": "stderr",
     "output_type": "stream",
     "text": [
      "                                                              \r"
     ]
    }
   ],
   "source": [
    "# choose the file you want\n",
    "clip = (VideoFileClip(\"media/videos/manim_project/1080p60/ReadmeFile.mp4\"))\n",
    "clip.write_gif(\"figures/PlotExample.gif\")"
   ]
  },
  {
   "cell_type": "code",
   "execution_count": 3,
   "metadata": {},
   "outputs": [
    {
     "name": "stdout",
     "output_type": "stream",
     "text": [
      "MoviePy - Building file figures/DotExample2.gif with imageio.\n"
     ]
    },
    {
     "name": "stderr",
     "output_type": "stream",
     "text": [
      "                                                              \r"
     ]
    }
   ],
   "source": [
    "# choose the file you want\n",
    "clip = (VideoFileClip(\"media/videos/manim_project/480p15/DotExample.mp4\"))\n",
    "clip.write_gif(\"figures/DotExample2.gif\")"
   ]
  }
 ],
 "metadata": {
  "kernelspec": {
   "display_name": "base",
   "language": "python",
   "name": "python3"
  },
  "language_info": {
   "codemirror_mode": {
    "name": "ipython",
    "version": 3
   },
   "file_extension": ".py",
   "mimetype": "text/x-python",
   "name": "python",
   "nbconvert_exporter": "python",
   "pygments_lexer": "ipython3",
   "version": "3.9.12"
  },
  "orig_nbformat": 4,
  "vscode": {
   "interpreter": {
    "hash": "7bde13cca8b9cfb88f3e732e233230a948ffc8260cda7276c9eb4a5cbd8dc853"
   }
  }
 },
 "nbformat": 4,
 "nbformat_minor": 2
}
