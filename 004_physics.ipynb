{
 "cells": [
  {
   "attachments": {},
   "cell_type": "markdown",
   "metadata": {},
   "source": [
    "# 加入了一点物理效果进行测试，需要安装manim-physics插件\n",
    "参考\n",
    "[manim-physics](https://github.com/Matheart/manim-physics)"
   ]
  },
  {
   "cell_type": "code",
   "execution_count": 10,
   "metadata": {},
   "outputs": [],
   "source": [
    "from manim import *\n",
    "from manim_physics import *"
   ]
  },
  {
   "cell_type": "code",
   "execution_count": 11,
   "metadata": {},
   "outputs": [
    {
     "name": "stderr",
     "output_type": "stream",
     "text": [
      "                                                                                    \r"
     ]
    },
    {
     "data": {
      "text/html": [
       "<video src=\"media/jupyter/TwoObjectsFalling@2023-02-12@23-16-09.mp4\" controls autoplay loop style=\"max-width: 60%;\"  >\n",
       "      Your browser does not support the <code>video</code> element.\n",
       "    </video>"
      ],
      "text/plain": [
       "<IPython.core.display.Video object>"
      ]
     },
     "metadata": {},
     "output_type": "display_data"
    }
   ],
   "source": [
    "%%manim -ql -v WARNING TwoObjectsFalling\n",
    "# use a SpaceScene to utilize all specific rigid-mechanics methods\n",
    "class TwoObjectsFalling(SpaceScene):\n",
    "    def construct(self):\n",
    "        # self.add(NumberPlane())\n",
    "        circle = Circle().shift(UP)\n",
    "        circle.set_fill(RED, 1)\n",
    "        circle.shift(DOWN + RIGHT)\n",
    "\n",
    "        rect = Square().shift(UP)\n",
    "        rect.rotate(PI / 4)\n",
    "        rect.set_fill(YELLOW_A, 1)\n",
    "        rect.shift(UP * 2)\n",
    "        rect.scale(0.5)\n",
    "\n",
    "        ground = Line([-4, -3.5, 0], [4, -3.5, 0])\n",
    "        wall1 = Line([-4, -3.5, 0], [-4, 3.5, 0])\n",
    "        wall2 = Line([4, -3.5, 0], [4, 3.5, 0])\n",
    "        walls = VGroup(ground, wall1, wall2)\n",
    "        self.add(walls)\n",
    "\n",
    "        self.play(\n",
    "            DrawBorderThenFill(circle),\n",
    "            DrawBorderThenFill(rect),\n",
    "        )\n",
    "        self.make_rigid_body(rect, circle)  # Mobjects will move with gravity\n",
    "        self.make_static_body(walls)  # Mobjects will stay in place\n",
    "        self.wait(5)\n",
    "        # during wait time, the circle and rect would move according to the simulate updater"
   ]
  },
  {
   "cell_type": "code",
   "execution_count": null,
   "metadata": {},
   "outputs": [],
   "source": [
    "%%manim -ql -v WARNING ElectricFieldExampleScene\n",
    "class ElectricFieldExampleScene(Scene):\n",
    "    def construct(self):\n",
    "        charge1 = Charge(-1, LEFT + DOWN)\n",
    "        charge2 = Charge(2, RIGHT + DOWN)\n",
    "        charge3 = Charge(-1, UP)\n",
    "        field = ElectricField(charge1, charge2, charge3)\n",
    "        self.add(charge1, charge2, charge3)\n",
    "        self.add(field)"
   ]
  },
  {
   "cell_type": "code",
   "execution_count": null,
   "metadata": {},
   "outputs": [],
   "source": [
    "%%manim -ql -v WARNING RadialWaveExampleScene\n",
    "class RadialWaveExampleScene(ThreeDScene):\n",
    "    def construct(self):\n",
    "        self.set_camera_orientation(60 * DEGREES, -45 * DEGREES)\n",
    "        wave = RadialWave(\n",
    "            LEFT * 2 + DOWN * 5, # Two source of waves\n",
    "            RIGHT * 2 + DOWN * 5,\n",
    "            checkerboard_colors=[BLUE_D],\n",
    "            stroke_width=0,\n",
    "        )\n",
    "        self.add(wave)\n",
    "        wave.start_wave()\n",
    "        self.wait()\n",
    "        wave.stop_wave()"
   ]
  },
  {
   "cell_type": "code",
   "execution_count": 14,
   "metadata": {},
   "outputs": [
    {
     "name": "stderr",
     "output_type": "stream",
     "text": [
      "                                                            \r"
     ]
    },
    {
     "data": {
      "text/html": [
       "<video src=\"media/jupyter/MultiPendulumExample@2023-02-12@23-16-21.mp4\" controls autoplay loop style=\"max-width: 60%;\"  >\n",
       "      Your browser does not support the <code>video</code> element.\n",
       "    </video>"
      ],
      "text/plain": [
       "<IPython.core.display.Video object>"
      ]
     },
     "metadata": {},
     "output_type": "display_data"
    }
   ],
   "source": [
    "%%manim -ql -v WARNING MultiPendulumExample\n",
    "class PendulumExample(SpaceScene):\n",
    "    def construct(self):\n",
    "        pends = VGroup(*[Pendulum(i) for i in np.linspace(1, 5, 7)])\n",
    "        self.add(pends)\n",
    "        for p in pends:\n",
    "            self.make_rigid_body(p.bobs)\n",
    "            p.start_swinging()\n",
    "        self.wait(10)\n",
    "\n",
    "\n",
    "class MultiPendulumExample(SpaceScene):\n",
    "    def construct(self):\n",
    "        self.add(NumberPlane())\n",
    "        p = MultiPendulum(RIGHT, LEFT)\n",
    "        self.add(p)\n",
    "        self.make_rigid_body(p.bobs)\n",
    "        p.start_swinging()\n",
    "        self.add(TracedPath(p.bobs[-1].get_center, stroke_color=BLUE))\n",
    "        self.wait(10)"
   ]
  }
 ],
 "metadata": {
  "kernelspec": {
   "display_name": "base",
   "language": "python",
   "name": "python3"
  },
  "language_info": {
   "codemirror_mode": {
    "name": "ipython",
    "version": 3
   },
   "file_extension": ".py",
   "mimetype": "text/x-python",
   "name": "python",
   "nbconvert_exporter": "python",
   "pygments_lexer": "ipython3",
   "version": "3.9.12"
  },
  "orig_nbformat": 4,
  "vscode": {
   "interpreter": {
    "hash": "7bde13cca8b9cfb88f3e732e233230a948ffc8260cda7276c9eb4a5cbd8dc853"
   }
  }
 },
 "nbformat": 4,
 "nbformat_minor": 2
}
